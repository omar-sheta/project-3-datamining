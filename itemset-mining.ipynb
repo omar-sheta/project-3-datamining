{
 "cells": [
  {
   "cell_type": "code",
   "execution_count": 1,
   "metadata": {},
   "outputs": [
    {
     "name": "stdout",
     "output_type": "stream",
     "text": [
      "Requirement already satisfied: mlxtend in /Users/Omar/opt/anaconda3/lib/python3.9/site-packages (0.23.3)\n",
      "Requirement already satisfied: scipy>=1.2.1 in /Users/Omar/opt/anaconda3/lib/python3.9/site-packages (from mlxtend) (1.11.4)\n",
      "Requirement already satisfied: numpy>=1.16.2 in /Users/Omar/opt/anaconda3/lib/python3.9/site-packages (from mlxtend) (1.22.4)\n",
      "Requirement already satisfied: pandas>=0.24.2 in /Users/Omar/opt/anaconda3/lib/python3.9/site-packages (from mlxtend) (1.3.4)\n",
      "Requirement already satisfied: scikit-learn>=1.3.1 in /Users/Omar/opt/anaconda3/lib/python3.9/site-packages (from mlxtend) (1.5.2)\n",
      "Requirement already satisfied: matplotlib>=3.0.0 in /Users/Omar/opt/anaconda3/lib/python3.9/site-packages (from mlxtend) (3.1.0)\n",
      "Requirement already satisfied: joblib>=0.13.2 in /Users/Omar/opt/anaconda3/lib/python3.9/site-packages (from mlxtend) (1.4.2)\n",
      "Requirement already satisfied: cycler>=0.10 in /Users/Omar/opt/anaconda3/lib/python3.9/site-packages (from matplotlib>=3.0.0->mlxtend) (0.10.0)\n",
      "Requirement already satisfied: kiwisolver>=1.0.1 in /Users/Omar/opt/anaconda3/lib/python3.9/site-packages (from matplotlib>=3.0.0->mlxtend) (1.3.1)\n",
      "Requirement already satisfied: pyparsing!=2.0.4,!=2.1.2,!=2.1.6,>=2.0.1 in /Users/Omar/opt/anaconda3/lib/python3.9/site-packages (from matplotlib>=3.0.0->mlxtend) (2.4.7)\n",
      "Requirement already satisfied: python-dateutil>=2.1 in /Users/Omar/opt/anaconda3/lib/python3.9/site-packages (from matplotlib>=3.0.0->mlxtend) (2.8.2)\n",
      "Requirement already satisfied: pytz>=2017.3 in /Users/Omar/opt/anaconda3/lib/python3.9/site-packages (from pandas>=0.24.2->mlxtend) (2021.3)\n",
      "Requirement already satisfied: threadpoolctl>=3.1.0 in /Users/Omar/opt/anaconda3/lib/python3.9/site-packages (from scikit-learn>=1.3.1->mlxtend) (3.5.0)\n",
      "Requirement already satisfied: six in /Users/Omar/opt/anaconda3/lib/python3.9/site-packages (from cycler>=0.10->matplotlib>=3.0.0->mlxtend) (1.16.0)\n",
      "\u001b[33mDEPRECATION: pyodbc 4.0.0-unsupported has a non-standard version number. pip 24.0 will enforce this behaviour change. A possible replacement is to upgrade to a newer version of pyodbc or contact the author to suggest that they release a version with a conforming version number. Discussion can be found at https://github.com/pypa/pip/issues/12063\u001b[0m\u001b[33m\n",
      "\u001b[0m\n",
      "\u001b[1m[\u001b[0m\u001b[34;49mnotice\u001b[0m\u001b[1;39;49m]\u001b[0m\u001b[39;49m A new release of pip is available: \u001b[0m\u001b[31;49m23.3.1\u001b[0m\u001b[39;49m -> \u001b[0m\u001b[32;49m24.3.1\u001b[0m\n",
      "\u001b[1m[\u001b[0m\u001b[34;49mnotice\u001b[0m\u001b[1;39;49m]\u001b[0m\u001b[39;49m To update, run: \u001b[0m\u001b[32;49mpip install --upgrade pip\u001b[0m\n",
      "Note: you may need to restart the kernel to use updated packages.\n"
     ]
    }
   ],
   "source": [
    "%pip install mlxtend"
   ]
  },
  {
   "cell_type": "code",
   "execution_count": 2,
   "metadata": {},
   "outputs": [],
   "source": [
    "# Import libraries\n",
    "import pandas as pd\n",
    "from mlxtend.preprocessing import TransactionEncoder\n",
    "from mlxtend.frequent_patterns import apriori, association_rules\n",
    "\n",
    "# Load the data\n",
    "orders = pd.read_csv('instacart-market-basket-analysis/orders.csv')  # Load the orders data\n",
    "order_products_prior = pd.read_csv('instacart-market-basket-analysis/order_products__prior.csv')  # Load prior products data\n",
    "products = pd.read_csv('instacart-market-basket-analysis/products.csv')  # Load products data\n"
   ]
  },
  {
   "cell_type": "code",
   "execution_count": 3,
   "metadata": {},
   "outputs": [
    {
     "data": {
      "text/html": [
       "<div>\n",
       "<style scoped>\n",
       "    .dataframe tbody tr th:only-of-type {\n",
       "        vertical-align: middle;\n",
       "    }\n",
       "\n",
       "    .dataframe tbody tr th {\n",
       "        vertical-align: top;\n",
       "    }\n",
       "\n",
       "    .dataframe thead th {\n",
       "        text-align: right;\n",
       "    }\n",
       "</style>\n",
       "<table border=\"1\" class=\"dataframe\">\n",
       "  <thead>\n",
       "    <tr style=\"text-align: right;\">\n",
       "      <th></th>\n",
       "      <th>order_id</th>\n",
       "      <th>user_id</th>\n",
       "      <th>eval_set</th>\n",
       "      <th>order_number</th>\n",
       "      <th>order_dow</th>\n",
       "      <th>order_hour_of_day</th>\n",
       "      <th>days_since_prior_order</th>\n",
       "    </tr>\n",
       "  </thead>\n",
       "  <tbody>\n",
       "    <tr>\n",
       "      <th>0</th>\n",
       "      <td>2539329</td>\n",
       "      <td>1</td>\n",
       "      <td>prior</td>\n",
       "      <td>1</td>\n",
       "      <td>2</td>\n",
       "      <td>8</td>\n",
       "      <td>NaN</td>\n",
       "    </tr>\n",
       "    <tr>\n",
       "      <th>1</th>\n",
       "      <td>2398795</td>\n",
       "      <td>1</td>\n",
       "      <td>prior</td>\n",
       "      <td>2</td>\n",
       "      <td>3</td>\n",
       "      <td>7</td>\n",
       "      <td>15.0</td>\n",
       "    </tr>\n",
       "    <tr>\n",
       "      <th>2</th>\n",
       "      <td>473747</td>\n",
       "      <td>1</td>\n",
       "      <td>prior</td>\n",
       "      <td>3</td>\n",
       "      <td>3</td>\n",
       "      <td>12</td>\n",
       "      <td>21.0</td>\n",
       "    </tr>\n",
       "    <tr>\n",
       "      <th>3</th>\n",
       "      <td>2254736</td>\n",
       "      <td>1</td>\n",
       "      <td>prior</td>\n",
       "      <td>4</td>\n",
       "      <td>4</td>\n",
       "      <td>7</td>\n",
       "      <td>29.0</td>\n",
       "    </tr>\n",
       "    <tr>\n",
       "      <th>4</th>\n",
       "      <td>431534</td>\n",
       "      <td>1</td>\n",
       "      <td>prior</td>\n",
       "      <td>5</td>\n",
       "      <td>4</td>\n",
       "      <td>15</td>\n",
       "      <td>28.0</td>\n",
       "    </tr>\n",
       "  </tbody>\n",
       "</table>\n",
       "</div>"
      ],
      "text/plain": [
       "   order_id  user_id eval_set  order_number  order_dow  order_hour_of_day  \\\n",
       "0   2539329        1    prior             1          2                  8   \n",
       "1   2398795        1    prior             2          3                  7   \n",
       "2    473747        1    prior             3          3                 12   \n",
       "3   2254736        1    prior             4          4                  7   \n",
       "4    431534        1    prior             5          4                 15   \n",
       "\n",
       "   days_since_prior_order  \n",
       "0                     NaN  \n",
       "1                    15.0  \n",
       "2                    21.0  \n",
       "3                    29.0  \n",
       "4                    28.0  "
      ]
     },
     "execution_count": 3,
     "metadata": {},
     "output_type": "execute_result"
    }
   ],
   "source": [
    "# Display the first few rows of each dataset\n",
    "orders.head()"
   ]
  },
  {
   "cell_type": "code",
   "execution_count": 4,
   "metadata": {},
   "outputs": [],
   "source": [
    "# remove eval_set column where eval_set = 'test'\n",
    "orders = orders[orders['eval_set'] != 'test']"
   ]
  },
  {
   "cell_type": "code",
   "execution_count": 5,
   "metadata": {},
   "outputs": [
    {
     "data": {
      "text/html": [
       "<div>\n",
       "<style scoped>\n",
       "    .dataframe tbody tr th:only-of-type {\n",
       "        vertical-align: middle;\n",
       "    }\n",
       "\n",
       "    .dataframe tbody tr th {\n",
       "        vertical-align: top;\n",
       "    }\n",
       "\n",
       "    .dataframe thead th {\n",
       "        text-align: right;\n",
       "    }\n",
       "</style>\n",
       "<table border=\"1\" class=\"dataframe\">\n",
       "  <thead>\n",
       "    <tr style=\"text-align: right;\">\n",
       "      <th></th>\n",
       "      <th>order_id</th>\n",
       "      <th>product_id</th>\n",
       "      <th>add_to_cart_order</th>\n",
       "      <th>reordered</th>\n",
       "    </tr>\n",
       "  </thead>\n",
       "  <tbody>\n",
       "    <tr>\n",
       "      <th>0</th>\n",
       "      <td>2</td>\n",
       "      <td>33120</td>\n",
       "      <td>1</td>\n",
       "      <td>1</td>\n",
       "    </tr>\n",
       "    <tr>\n",
       "      <th>1</th>\n",
       "      <td>2</td>\n",
       "      <td>28985</td>\n",
       "      <td>2</td>\n",
       "      <td>1</td>\n",
       "    </tr>\n",
       "    <tr>\n",
       "      <th>2</th>\n",
       "      <td>2</td>\n",
       "      <td>9327</td>\n",
       "      <td>3</td>\n",
       "      <td>0</td>\n",
       "    </tr>\n",
       "    <tr>\n",
       "      <th>3</th>\n",
       "      <td>2</td>\n",
       "      <td>45918</td>\n",
       "      <td>4</td>\n",
       "      <td>1</td>\n",
       "    </tr>\n",
       "    <tr>\n",
       "      <th>4</th>\n",
       "      <td>2</td>\n",
       "      <td>30035</td>\n",
       "      <td>5</td>\n",
       "      <td>0</td>\n",
       "    </tr>\n",
       "  </tbody>\n",
       "</table>\n",
       "</div>"
      ],
      "text/plain": [
       "   order_id  product_id  add_to_cart_order  reordered\n",
       "0         2       33120                  1          1\n",
       "1         2       28985                  2          1\n",
       "2         2        9327                  3          0\n",
       "3         2       45918                  4          1\n",
       "4         2       30035                  5          0"
      ]
     },
     "execution_count": 5,
     "metadata": {},
     "output_type": "execute_result"
    }
   ],
   "source": [
    "order_products_prior.head()"
   ]
  },
  {
   "cell_type": "code",
   "execution_count": 6,
   "metadata": {},
   "outputs": [
    {
     "data": {
      "text/html": [
       "<div>\n",
       "<style scoped>\n",
       "    .dataframe tbody tr th:only-of-type {\n",
       "        vertical-align: middle;\n",
       "    }\n",
       "\n",
       "    .dataframe tbody tr th {\n",
       "        vertical-align: top;\n",
       "    }\n",
       "\n",
       "    .dataframe thead th {\n",
       "        text-align: right;\n",
       "    }\n",
       "</style>\n",
       "<table border=\"1\" class=\"dataframe\">\n",
       "  <thead>\n",
       "    <tr style=\"text-align: right;\">\n",
       "      <th></th>\n",
       "      <th>product_id</th>\n",
       "      <th>product_name</th>\n",
       "      <th>aisle_id</th>\n",
       "      <th>department_id</th>\n",
       "    </tr>\n",
       "  </thead>\n",
       "  <tbody>\n",
       "    <tr>\n",
       "      <th>0</th>\n",
       "      <td>1</td>\n",
       "      <td>Chocolate Sandwich Cookies</td>\n",
       "      <td>61</td>\n",
       "      <td>19</td>\n",
       "    </tr>\n",
       "    <tr>\n",
       "      <th>1</th>\n",
       "      <td>2</td>\n",
       "      <td>All-Seasons Salt</td>\n",
       "      <td>104</td>\n",
       "      <td>13</td>\n",
       "    </tr>\n",
       "    <tr>\n",
       "      <th>2</th>\n",
       "      <td>3</td>\n",
       "      <td>Robust Golden Unsweetened Oolong Tea</td>\n",
       "      <td>94</td>\n",
       "      <td>7</td>\n",
       "    </tr>\n",
       "    <tr>\n",
       "      <th>3</th>\n",
       "      <td>4</td>\n",
       "      <td>Smart Ones Classic Favorites Mini Rigatoni Wit...</td>\n",
       "      <td>38</td>\n",
       "      <td>1</td>\n",
       "    </tr>\n",
       "    <tr>\n",
       "      <th>4</th>\n",
       "      <td>5</td>\n",
       "      <td>Green Chile Anytime Sauce</td>\n",
       "      <td>5</td>\n",
       "      <td>13</td>\n",
       "    </tr>\n",
       "  </tbody>\n",
       "</table>\n",
       "</div>"
      ],
      "text/plain": [
       "   product_id                                       product_name  aisle_id  \\\n",
       "0           1                         Chocolate Sandwich Cookies        61   \n",
       "1           2                                   All-Seasons Salt       104   \n",
       "2           3               Robust Golden Unsweetened Oolong Tea        94   \n",
       "3           4  Smart Ones Classic Favorites Mini Rigatoni Wit...        38   \n",
       "4           5                          Green Chile Anytime Sauce         5   \n",
       "\n",
       "   department_id  \n",
       "0             19  \n",
       "1             13  \n",
       "2              7  \n",
       "3              1  \n",
       "4             13  "
      ]
     },
     "execution_count": 6,
     "metadata": {},
     "output_type": "execute_result"
    }
   ],
   "source": [
    "products.head()"
   ]
  },
  {
   "cell_type": "code",
   "execution_count": 7,
   "metadata": {},
   "outputs": [
    {
     "name": "stdout",
     "output_type": "stream",
     "text": [
      "count     49677.000000\n",
      "mean        652.907563\n",
      "std        4792.114416\n",
      "min           1.000000\n",
      "25%          17.000000\n",
      "50%          60.000000\n",
      "75%         260.000000\n",
      "max      472565.000000\n",
      "Name: product_id, dtype: float64\n"
     ]
    },
    {
     "name": "stderr",
     "output_type": "stream",
     "text": [
      "/Users/Omar/opt/anaconda3/lib/python3.9/site-packages/pandas/core/nanops.py:1723: DeprecationWarning: the `interpolation=` argument to percentile was renamed to `method=`, which has additional options.\n",
      "Users of the modes 'nearest', 'lower', 'higher', or 'midpoint' are encouraged to review the method they. (Deprecated NumPy 1.22)\n",
      "  return np.percentile(values, q, axis=1, interpolation=interpolation)\n"
     ]
    }
   ],
   "source": [
    "# Calculate the frequency of each product\n",
    "item_frequencies = order_products_prior['product_id'].value_counts()\n",
    "\n",
    "# Display summary statistics for item frequencies\n",
    "print(item_frequencies.describe())\n",
    "\n",
    "# Filter the products that have been ordered at least 60 times\n",
    "frequent_items = item_frequencies[item_frequencies >= 60]\n"
   ]
  },
  {
   "cell_type": "code",
   "execution_count": 8,
   "metadata": {},
   "outputs": [],
   "source": [
    "# Merge product details with order-product relationships\n",
    "order_products = order_products_prior.merge(products, on='product_id', how='left')\n",
    "\n",
    "transactions = order_products.groupby('order_id')['product_id'].apply(list).values.tolist()\n"
   ]
  },
  {
   "cell_type": "code",
   "execution_count": 9,
   "metadata": {},
   "outputs": [
    {
     "data": {
      "text/plain": [
       "[[33120, 28985, 9327, 45918, 30035, 17794, 40141, 1819, 43668],\n",
       " [33754, 24838, 17704, 21903, 17668, 46667, 17461, 32665],\n",
       " [46842,\n",
       "  26434,\n",
       "  39758,\n",
       "  27761,\n",
       "  10054,\n",
       "  21351,\n",
       "  22598,\n",
       "  34862,\n",
       "  40285,\n",
       "  17616,\n",
       "  25146,\n",
       "  32645,\n",
       "  41276],\n",
       " [13176,\n",
       "  15005,\n",
       "  47329,\n",
       "  27966,\n",
       "  23909,\n",
       "  48370,\n",
       "  13245,\n",
       "  9633,\n",
       "  27360,\n",
       "  6348,\n",
       "  40878,\n",
       "  6184,\n",
       "  48002,\n",
       "  20914,\n",
       "  37011,\n",
       "  12962,\n",
       "  45698,\n",
       "  24773,\n",
       "  18569,\n",
       "  41176,\n",
       "  48366,\n",
       "  47209,\n",
       "  46522,\n",
       "  38693,\n",
       "  48825,\n",
       "  8479],\n",
       " [40462, 15873, 41897]]"
      ]
     },
     "execution_count": 9,
     "metadata": {},
     "output_type": "execute_result"
    }
   ],
   "source": [
    "transactions[:5]\n"
   ]
  },
  {
   "cell_type": "code",
   "execution_count": 10,
   "metadata": {},
   "outputs": [
    {
     "name": "stderr",
     "output_type": "stream",
     "text": [
      "/Users/Omar/opt/anaconda3/lib/python3.9/site-packages/matplotlib/__init__.py:195: DeprecationWarning: distutils Version classes are deprecated. Use packaging.version instead.\n",
      "  if LooseVersion(module.__version__) < minver:\n",
      "/Users/Omar/opt/anaconda3/lib/python3.9/site-packages/setuptools/_distutils/version.py:346: DeprecationWarning: distutils Version classes are deprecated. Use packaging.version instead.\n",
      "  other = LooseVersion(other)\n",
      "/Users/Omar/opt/anaconda3/lib/python3.9/site-packages/matplotlib/__init__.py:195: DeprecationWarning: distutils Version classes are deprecated. Use packaging.version instead.\n",
      "  if LooseVersion(module.__version__) < minver:\n",
      "/Users/Omar/opt/anaconda3/lib/python3.9/site-packages/setuptools/_distutils/version.py:346: DeprecationWarning: distutils Version classes are deprecated. Use packaging.version instead.\n",
      "  other = LooseVersion(other)\n",
      "/Users/Omar/opt/anaconda3/lib/python3.9/site-packages/matplotlib/__init__.py:195: DeprecationWarning: distutils Version classes are deprecated. Use packaging.version instead.\n",
      "  if LooseVersion(module.__version__) < minver:\n",
      "/Users/Omar/opt/anaconda3/lib/python3.9/site-packages/setuptools/_distutils/version.py:346: DeprecationWarning: distutils Version classes are deprecated. Use packaging.version instead.\n",
      "  other = LooseVersion(other)\n",
      "/Users/Omar/opt/anaconda3/lib/python3.9/site-packages/matplotlib/__init__.py:195: DeprecationWarning: distutils Version classes are deprecated. Use packaging.version instead.\n",
      "  if LooseVersion(module.__version__) < minver:\n",
      "/Users/Omar/opt/anaconda3/lib/python3.9/site-packages/setuptools/_distutils/version.py:346: DeprecationWarning: distutils Version classes are deprecated. Use packaging.version instead.\n",
      "  other = LooseVersion(other)\n",
      "/Users/Omar/opt/anaconda3/lib/python3.9/site-packages/matplotlib/__init__.py:195: DeprecationWarning: distutils Version classes are deprecated. Use packaging.version instead.\n",
      "  if LooseVersion(module.__version__) < minver:\n",
      "/Users/Omar/opt/anaconda3/lib/python3.9/site-packages/setuptools/_distutils/version.py:346: DeprecationWarning: distutils Version classes are deprecated. Use packaging.version instead.\n",
      "  other = LooseVersion(other)\n"
     ]
    },
    {
     "data": {
      "image/png": "[encoded data removed]",
      "text/plain": [
       "<Figure size 432x288 with 1 Axes>"
      ]
     },
     "metadata": {
      "needs_background": "light"
     },
     "output_type": "display_data"
    }
   ],
   "source": [
    "# distribution of transaction sizes \n",
    "transaction_sizes = [len(t) for t in transactions]\n",
    "\n",
    "# plot the distribution of transaction sizes\n",
    "import matplotlib.pyplot as plt\n",
    "\n",
    "plt.hist(transaction_sizes, bins=50, color='skyblue', edgecolor='black', alpha=0.7)\n",
    "plt.xlabel('Transaction Size')\n",
    "plt.ylabel('Frequency')\n",
    "plt.title('Distribution of Transaction Sizes')\n",
    "plt.show()"
   ]
  },
  {
   "cell_type": "code",
   "execution_count": 11,
   "metadata": {},
   "outputs": [
    {
     "name": "stdout",
     "output_type": "stream",
     "text": [
      "Number of transactions before: 3214874\n",
      "Number of transactions after: 2442025\n"
     ]
    }
   ],
   "source": [
    "# if transaction size is less than 5, we will remove it\n",
    "print('Number of transactions before:', len(transactions))\n",
    "transactions_reduced = [t for t in transactions if len(t) >= 5]\n",
    "print('Number of transactions after:', len(transactions_reduced))\n"
   ]
  },
  {
   "cell_type": "code",
   "execution_count": 12,
   "metadata": {},
   "outputs": [
    {
     "data": {
      "text/plain": [
       "122101"
      ]
     },
     "execution_count": 12,
     "metadata": {},
     "output_type": "execute_result"
    }
   ],
   "source": [
    "# randomly select 10% of the transactions\n",
    "import random\n",
    "\n",
    "random.seed(42)\n",
    "transactions_sampled = random.sample(transactions_reduced\n",
    "                                        , int(len(transactions_reduced) * 0.05))\n",
    "\n",
    "# Display the number of transactions in the sample\n",
    "len(transactions_sampled)"
   ]
  },
  {
   "cell_type": "code",
   "execution_count": 13,
   "metadata": {},
   "outputs": [],
   "source": [
    "from mlxtend.preprocessing import TransactionEncoder\n",
    "from mlxtend.frequent_patterns import fpgrowth\n",
    "\n",
    "# Encode the filtered transactions\n",
    "te = TransactionEncoder()\n",
    "te_array = te.fit(transactions_sampled).transform(transactions_sampled)\n",
    "df_encoded = pd.DataFrame(te_array, columns=te.columns_)"
   ]
  },
  {
   "cell_type": "code",
   "execution_count": 14,
   "metadata": {},
   "outputs": [
    {
     "data": {
      "text/html": [
       "<div>\n",
       "<style scoped>\n",
       "    .dataframe tbody tr th:only-of-type {\n",
       "        vertical-align: middle;\n",
       "    }\n",
       "\n",
       "    .dataframe tbody tr th {\n",
       "        vertical-align: top;\n",
       "    }\n",
       "\n",
       "    .dataframe thead th {\n",
       "        text-align: right;\n",
       "    }\n",
       "</style>\n",
       "<table border=\"1\" class=\"dataframe\">\n",
       "  <thead>\n",
       "    <tr style=\"text-align: right;\">\n",
       "      <th></th>\n",
       "      <th>1</th>\n",
       "      <th>2</th>\n",
       "      <th>3</th>\n",
       "      <th>4</th>\n",
       "      <th>5</th>\n",
       "      <th>7</th>\n",
       "      <th>8</th>\n",
       "      <th>9</th>\n",
       "      <th>10</th>\n",
       "      <th>11</th>\n",
       "      <th>...</th>\n",
       "      <th>49678</th>\n",
       "      <th>49679</th>\n",
       "      <th>49680</th>\n",
       "      <th>49681</th>\n",
       "      <th>49682</th>\n",
       "      <th>49683</th>\n",
       "      <th>49685</th>\n",
       "      <th>49686</th>\n",
       "      <th>49687</th>\n",
       "      <th>49688</th>\n",
       "    </tr>\n",
       "  </thead>\n",
       "  <tbody>\n",
       "    <tr>\n",
       "      <th>0</th>\n",
       "      <td>False</td>\n",
       "      <td>False</td>\n",
       "      <td>False</td>\n",
       "      <td>False</td>\n",
       "      <td>False</td>\n",
       "      <td>False</td>\n",
       "      <td>False</td>\n",
       "      <td>False</td>\n",
       "      <td>False</td>\n",
       "      <td>False</td>\n",
       "      <td>...</td>\n",
       "      <td>False</td>\n",
       "      <td>False</td>\n",
       "      <td>False</td>\n",
       "      <td>False</td>\n",
       "      <td>False</td>\n",
       "      <td>False</td>\n",
       "      <td>False</td>\n",
       "      <td>False</td>\n",
       "      <td>False</td>\n",
       "      <td>False</td>\n",
       "    </tr>\n",
       "    <tr>\n",
       "      <th>1</th>\n",
       "      <td>False</td>\n",
       "      <td>False</td>\n",
       "      <td>False</td>\n",
       "      <td>False</td>\n",
       "      <td>False</td>\n",
       "      <td>False</td>\n",
       "      <td>False</td>\n",
       "      <td>False</td>\n",
       "      <td>False</td>\n",
       "      <td>False</td>\n",
       "      <td>...</td>\n",
       "      <td>False</td>\n",
       "      <td>False</td>\n",
       "      <td>False</td>\n",
       "      <td>False</td>\n",
       "      <td>False</td>\n",
       "      <td>False</td>\n",
       "      <td>False</td>\n",
       "      <td>False</td>\n",
       "      <td>False</td>\n",
       "      <td>False</td>\n",
       "    </tr>\n",
       "    <tr>\n",
       "      <th>2</th>\n",
       "      <td>False</td>\n",
       "      <td>False</td>\n",
       "      <td>False</td>\n",
       "      <td>False</td>\n",
       "      <td>False</td>\n",
       "      <td>False</td>\n",
       "      <td>False</td>\n",
       "      <td>False</td>\n",
       "      <td>False</td>\n",
       "      <td>False</td>\n",
       "      <td>...</td>\n",
       "      <td>False</td>\n",
       "      <td>False</td>\n",
       "      <td>False</td>\n",
       "      <td>False</td>\n",
       "      <td>False</td>\n",
       "      <td>True</td>\n",
       "      <td>False</td>\n",
       "      <td>False</td>\n",
       "      <td>False</td>\n",
       "      <td>False</td>\n",
       "    </tr>\n",
       "    <tr>\n",
       "      <th>3</th>\n",
       "      <td>False</td>\n",
       "      <td>False</td>\n",
       "      <td>False</td>\n",
       "      <td>False</td>\n",
       "      <td>False</td>\n",
       "      <td>False</td>\n",
       "      <td>False</td>\n",
       "      <td>False</td>\n",
       "      <td>False</td>\n",
       "      <td>False</td>\n",
       "      <td>...</td>\n",
       "      <td>False</td>\n",
       "      <td>False</td>\n",
       "      <td>False</td>\n",
       "      <td>False</td>\n",
       "      <td>False</td>\n",
       "      <td>False</td>\n",
       "      <td>False</td>\n",
       "      <td>False</td>\n",
       "      <td>False</td>\n",
       "      <td>False</td>\n",
       "    </tr>\n",
       "    <tr>\n",
       "      <th>4</th>\n",
       "      <td>False</td>\n",
       "      <td>False</td>\n",
       "      <td>False</td>\n",
       "      <td>False</td>\n",
       "      <td>False</td>\n",
       "      <td>False</td>\n",
       "      <td>False</td>\n",
       "      <td>False</td>\n",
       "      <td>False</td>\n",
       "      <td>False</td>\n",
       "      <td>...</td>\n",
       "      <td>False</td>\n",
       "      <td>False</td>\n",
       "      <td>False</td>\n",
       "      <td>False</td>\n",
       "      <td>False</td>\n",
       "      <td>False</td>\n",
       "      <td>False</td>\n",
       "      <td>False</td>\n",
       "      <td>False</td>\n",
       "      <td>False</td>\n",
       "    </tr>\n",
       "  </tbody>\n",
       "</table>\n",
       "<p>5 rows × 38361 columns</p>\n",
       "</div>"
      ],
      "text/plain": [
       "   1      2      3      4      5      7      8      9      10     11     ...  \\\n",
       "0  False  False  False  False  False  False  False  False  False  False  ...   \n",
       "1  False  False  False  False  False  False  False  False  False  False  ...   \n",
       "2  False  False  False  False  False  False  False  False  False  False  ...   \n",
       "3  False  False  False  False  False  False  False  False  False  False  ...   \n",
       "4  False  False  False  False  False  False  False  False  False  False  ...   \n",
       "\n",
       "   49678  49679  49680  49681  49682  49683  49685  49686  49687  49688  \n",
       "0  False  False  False  False  False  False  False  False  False  False  \n",
       "1  False  False  False  False  False  False  False  False  False  False  \n",
       "2  False  False  False  False  False   True  False  False  False  False  \n",
       "3  False  False  False  False  False  False  False  False  False  False  \n",
       "4  False  False  False  False  False  False  False  False  False  False  \n",
       "\n",
       "[5 rows x 38361 columns]"
      ]
     },
     "execution_count": 14,
     "metadata": {},
     "output_type": "execute_result"
    }
   ],
   "source": [
    "df_encoded.head()"
   ]
  },
  {
   "cell_type": "code",
   "execution_count": 15,
   "metadata": {},
   "outputs": [
    {
     "name": "stdout",
     "output_type": "stream",
     "text": [
      "Frequent Itemsets:\n"
     ]
    },
    {
     "data": {
      "text/html": [
       "<div>\n",
       "<style scoped>\n",
       "    .dataframe tbody tr th:only-of-type {\n",
       "        vertical-align: middle;\n",
       "    }\n",
       "\n",
       "    .dataframe tbody tr th {\n",
       "        vertical-align: top;\n",
       "    }\n",
       "\n",
       "    .dataframe thead th {\n",
       "        text-align: right;\n",
       "    }\n",
       "</style>\n",
       "<table border=\"1\" class=\"dataframe\">\n",
       "  <thead>\n",
       "    <tr style=\"text-align: right;\">\n",
       "      <th></th>\n",
       "      <th>support</th>\n",
       "      <th>itemsets</th>\n",
       "    </tr>\n",
       "  </thead>\n",
       "  <tbody>\n",
       "    <tr>\n",
       "      <th>0</th>\n",
       "      <td>0.180867</td>\n",
       "      <td>(24852)</td>\n",
       "    </tr>\n",
       "    <tr>\n",
       "      <th>1</th>\n",
       "      <td>0.091883</td>\n",
       "      <td>(21903)</td>\n",
       "    </tr>\n",
       "    <tr>\n",
       "      <th>2</th>\n",
       "      <td>0.045552</td>\n",
       "      <td>(22935)</td>\n",
       "    </tr>\n",
       "    <tr>\n",
       "      <th>3</th>\n",
       "      <td>0.028910</td>\n",
       "      <td>(27104)</td>\n",
       "    </tr>\n",
       "    <tr>\n",
       "      <th>4</th>\n",
       "      <td>0.052588</td>\n",
       "      <td>(16797)</td>\n",
       "    </tr>\n",
       "  </tbody>\n",
       "</table>\n",
       "</div>"
      ],
      "text/plain": [
       "    support itemsets\n",
       "0  0.180867  (24852)\n",
       "1  0.091883  (21903)\n",
       "2  0.045552  (22935)\n",
       "3  0.028910  (27104)\n",
       "4  0.052588  (16797)"
      ]
     },
     "execution_count": 15,
     "metadata": {},
     "output_type": "execute_result"
    }
   ],
   "source": [
    "# Generate frequent itemsets using FP-Growth\n",
    "frequent_itemsets = fpgrowth(df_encoded, min_support=0.01, use_colnames=True)\n",
    "\n",
    "print(\"Frequent Itemsets:\")\n",
    "frequent_itemsets.head()\n"
   ]
  },
  {
   "cell_type": "code",
   "execution_count": 38,
   "metadata": {},
   "outputs": [],
   "source": [
    "# save transactions to a file\n",
    "with open('transactions.txt', 'w') as f:\n",
    "    for transaction in transactions:\n",
    "        f.write(' '.join([str(x) for x in transaction]) + '\\n')"
   ]
  },
  {
   "cell_type": "code",
   "execution_count": 45,
   "metadata": {},
   "outputs": [
    {
     "name": "stdout",
     "output_type": "stream",
     "text": [
      "Number of transactions:  3214874\n"
     ]
    }
   ],
   "source": [
    "# size of transactions\n",
    "print(\"Number of transactions: \", len(transactions))"
   ]
  },
  {
   "cell_type": "code",
   "execution_count": 56,
   "metadata": {},
   "outputs": [
    {
     "name": "stdout",
     "output_type": "stream",
     "text": [
      "Summary Statistics for Transaction Sizes:\n"
     ]
    },
    {
     "name": "stderr",
     "output_type": "stream",
     "text": [
      "/Users/Omar/opt/anaconda3/lib/python3.9/site-packages/pandas/core/nanops.py:1723: DeprecationWarning: the `interpolation=` argument to percentile was renamed to `method=`, which has additional options.\n",
      "Users of the modes 'nearest', 'lower', 'higher', or 'midpoint' are encouraged to review the method they. (Deprecated NumPy 1.22)\n",
      "  return np.percentile(values, q, axis=1, interpolation=interpolation)\n"
     ]
    },
    {
     "name": "stdout",
     "output_type": "stream",
     "text": [
      "count    3.214874e+06\n",
      "mean     1.008888e+01\n",
      "std      7.525398e+00\n",
      "min      1.000000e+00\n",
      "25%      5.000000e+00\n",
      "50%      8.000000e+00\n",
      "75%      1.400000e+01\n",
      "max      1.450000e+02\n",
      "dtype: float64\n",
      "\n",
      "Transaction Size Frequency Distribution:\n",
      "1      156748\n",
      "2      186993\n",
      "3      207027\n",
      "4      222081\n",
      "5      228330\n",
      "        ...  \n",
      "116         1\n",
      "121         1\n",
      "127         1\n",
      "137         1\n",
      "145         1\n",
      "Length: 113, dtype: int64\n"
     ]
    },
    {
     "data": {
      "image/png": "[encoded data removed]",
      "text/plain": [
       "<Figure size 720x432 with 1 Axes>"
      ]
     },
     "metadata": {
      "needs_background": "light"
     },
     "output_type": "display_data"
    }
   ],
   "source": [
    "# Calculate transaction sizes\n",
    "transaction_sizes = [len(transaction) for transaction in transactions]\n",
    "\n",
    "# Convert to a Pandas Series for analysis\n",
    "transaction_sizes_series = pd.Series(transaction_sizes)\n",
    "\n",
    "# Display summary statistics\n",
    "print(\"Summary Statistics for Transaction Sizes:\")\n",
    "print(transaction_sizes_series.describe())\n",
    "\n",
    "# Display value counts for transaction sizes (if needed)\n",
    "print(\"\\nTransaction Size Frequency Distribution:\")\n",
    "print(transaction_sizes_series.value_counts().sort_index())\n",
    "\n",
    "# Plot the distribution of transaction sizes\n",
    "import matplotlib.pyplot as plt\n",
    "\n",
    "plt.figure(figsize=(10, 6))\n",
    "plt.hist(transaction_sizes, bins=50, edgecolor='black', log=True)\n",
    "plt.title(\"Distribution of Transaction Sizes\")\n",
    "plt.xlabel(\"Number of Items per Transaction\")\n",
    "plt.ylabel(\"Frequency (Log Scale)\")\n",
    "plt.grid(axis='y')\n",
    "plt.show()\n"
   ]
  },
  {
   "cell_type": "code",
   "execution_count": 53,
   "metadata": {},
   "outputs": [
    {
     "name": "stdout",
     "output_type": "stream",
     "text": [
      "Order with the most items:\n",
      "Order ID: 154941\n",
      "Number of items: 145\n",
      "Items: ['Asparagus', 'Pumpkin Fig Ancient Grain Granola', 'Organic Hass Avocado', 'Tofu Spring Roll', 'Organic Free Range Large Brown Grade A Eggs', 'Cold-pressed, Deliciously Hydrating Watermelon Water', 'Organic Reduced Fat 2% Milk', 'Organic Cultured Low Fat 1% Cottage Cheese', 'Sesame Seaweed Salad', 'Organic Granny Smith Apple', 'Natural Artesian Water', 'Organic Kiwi', 'Baked Vegetable Brown Rice Snaps', 'Michigan Organic Kale', 'Organic Garlic', 'Cayenne Cleanse Probiotic Tea', 'Spicy Avocado Hummus', 'Beet Apple Carrot Lemon Ginger Organic Cold Pressed Juice Beverage', 'Cream Top Smooth & Creamy Vanilla Yogurt', 'Organic Whole Milk', 'Blue Machine Boosted 100% Juice Smoothie', 'Salted Sweet Cream Butter', 'Gluten Free Sliced Mountain White Bread', 'Organic Romaine Lettuce', 'Cherubs Heavenly Salad Tomatoes', 'Organic Mexican Blend Finely Shredded Cheese', 'Organic Iced Green Tea', 'Natural Artisan Water', 'Beet Kombucha', 'Bag of Organic Bananas', 'Organic Lemon', 'Wheat Gluten Free Waffles', 'Organic Lemon Cayenne Sparkling Probiotic Drink', 'Organic Large Extra Fancy Fuji Apple', 'Mango Flavor Probiotic Juice Drink', 'Organic Wheat-Free & Gluten-Free Original Crackers', 'Organic Frozen Mango Chunks', 'Organic White Onions', 'Organic Yellow Onion', 'Organic Cheese Frozen Pizza', 'PlusShot Strawberry Probiotic Juice Drink', 'Gluten-Free Tuscan Crackerz', 'Organic Bread with 21 Whole Grains', 'Whipped Cream Cheese', 'Dha Omega 3 Reduced Fat 2% Milk', 'Organic Spinach Bunch', 'Organic Gluten Free & Wheat Free Pumpkin Spice Waffles', 'Real Guacamole', 'Organic Roasted Turkey Breast', 'Organic Roasted Sliced Chicken Breast', 'Organic Small Bunch Celery', 'Gluten Free Vanilla Granola', 'Organic Milk Chocolate Peanut Butter Cups', 'Gluten Free Dark Chocolate Chunk Chewy with a Crunch Granola Bars', 'Cheddar Cheese Medium', 'Garlic & Fine Herbs Gournay Cheese', 'Baked Beans', 'Corn Chips', 'Total Greek Strained Yogurt', 'Organic Sticks Low Moisture Part Skim Mozzarella String Cheese', 'Organic Basil', 'Organic Cucumber', 'Papaya', 'Just Cranberry Unsweetened Juice', 'Homestyle Belgian Waffles', 'Lemon Cayenne Agave Cold Pressed Juice Beverage', 'Organic Jalapeno Crackers', 'Blue Chips Corn Tortilla Chips', 'Organic Non Dairy Vanilla Almond Beverage', 'Limes', 'Organic Red Onion', 'French Baguette Bread', 'Organic Broccoli', 'I Heart Baby Kale', 'Salt & Pepper Krinkle Chips', 'Cheese Enchilada Meal', 'Organic Country Style Barbeque Potato Chips', 'Sea Salt & Vinegar Potato Chips', 'Watermelon Agave Frozen Pops', 'Everything Bagels', 'Pink Lady Apple Kombucha', 'Gluten Free Blueberry Waffles', 'Mango Probiotic Juice Drink', 'Sparkling Natural Mineral Water', 'Organic Russet Potato', 'Organic Unsweetened Almond Milk', 'Shredded Hash Browns', 'Blueberry Blaze Trail Mix', 'Organic Italian Parsley Bunch', 'Whole Milk Ricotta Cheese', 'Organic Leek', 'Laundry Detergent Free & Clear', 'Margherita Pizza', 'Gluten-Free Chicken Nuggets', 'Pretzel Crisps Original Deli Style Pretzel Crackers', 'Toasted Almond Gelato', 'Vanilla Ice Cream Sandwich', 'Pomegranate Terere', 'Sparkling Pomegranate', 'Tommy/Kent/Keitt/Haden Mango', 'California Lemonade', 'Blue Cheese Crumbles', 'Pita Chips, Simply Naked', 'Cheese Pizza Snacks', 'White Cheddar Popcorn', 'Total Greek Yogurt With Honey', 'Pizza 4 Cheese', 'Original Enriched Rice Drink', 'Lightly Salted Baked Snap Pea Crisps', 'Organic Red Chard Greens', 'Organic Ginger Root', 'Organic Gala Apples', 'Cheese Curls', 'Wheat English Muffins', 'Lemon Verbena Dish Soap', 'Organic Rainbow Carrots', 'Organic Red Radish, Bunch', 'Organic Lacinato (Dinosaur) Kale', 'Fresh Mozzarella', 'Mild Cheddar Semisoft Cheese', 'Frozen Organic Wild Blueberries', 'Collard Greens', 'Cheese, Goat Milk, Purple Haze', 'Organic Crunchy Peanut Butter', 'Mediterranean Mint Gelato', 'Organic Tortilla Chips', 'Organic California Style Sprouted Bread', 'Pure Baking Soda', 'Organic Nectarine', 'Sunrise Crunchy Cinnamon Cereal', 'Gluten Free Apple Cinnamon Waffles', 'Organic Black Pepper', 'Uncured Applewood Smoked Bacon', 'Walnut Halves & Pieces', 'High Pulp Orange Juice', 'Cucumber & Garlic  Tzatziki', 'Organic Large White Flesh Peach', 'Organic Large Green Asparagus', 'Organic Baby Arugula', 'Uncured Slow Cooked Ham', 'Sweet Potato Fries with Sea Salt', 'Quattro Formaggi Four Cheeses Pizza', 'Organic Himalayan Pink Popcorn', 'Almond Butter', 'Organic 100% Grapefruit  Juice']\n"
     ]
    }
   ],
   "source": [
    "# what is the order with the most items?\n",
    "max_order_index = pd.Series(transaction_sizes).idxmax()\n",
    "print(\"Order with the most items:\")\n",
    "print(\"Order ID:\", order_products['order_id'][max_order_index])\n",
    "print(\"Number of items:\", len(transactions[max_order_index]))\n",
    "print(\"Items:\", transactions[max_order_index])"
   ]
  },
  {
   "cell_type": "code",
   "execution_count": 57,
   "metadata": {},
   "outputs": [
    {
     "data": {
      "text/plain": [
       "3214874"
      ]
     },
     "execution_count": 57,
     "metadata": {},
     "output_type": "execute_result"
    }
   ],
   "source": [
    "len(transactions)"
   ]
  },
  {
   "cell_type": "code",
   "execution_count": 58,
   "metadata": {},
   "outputs": [],
   "source": [
    "# drop orders with less than 2 items\n",
    "transactions = [transaction for transaction in transactions if len(transaction) >= 2]"
   ]
  },
  {
   "cell_type": "code",
   "execution_count": 59,
   "metadata": {},
   "outputs": [
    {
     "data": {
      "text/plain": [
       "3058126"
      ]
     },
     "execution_count": 59,
     "metadata": {},
     "output_type": "execute_result"
    }
   ],
   "source": [
    "len(transactions)"
   ]
  },
  {
   "cell_type": "code",
   "execution_count": 60,
   "metadata": {},
   "outputs": [],
   "source": [
    "from mlxtend.preprocessing import TransactionEncoder\n",
    "\n",
    "# Transform to binary matrix and continue with itemset mining\n",
    "te = TransactionEncoder()\n",
    "te_array = te.fit(transactions).transform(transactions)\n",
    "df_encoded = pd.DataFrame(te_array, columns=te.columns_)"
   ]
  },
  {
   "cell_type": "code",
   "execution_count": 61,
   "metadata": {},
   "outputs": [
    {
     "data": {
      "text/plain": [
       "(3058126, 49674)"
      ]
     },
     "execution_count": 61,
     "metadata": {},
     "output_type": "execute_result"
    }
   ],
   "source": [
    "df_encoded.shape"
   ]
  },
  {
   "cell_type": "code",
   "execution_count": null,
   "metadata": {},
   "outputs": [],
   "source": [
    "from mlxtend.frequent_patterns import fpgrowth\n",
    "\n",
    "# Generate frequent itemsets using FP-Growth\n",
    "frequent_itemsets = fpgrowth(df_encoded, min_support=0.01, use_colnames=True)\n",
    "\n",
    "# Display frequent itemsets\n",
    "frequent_itemsets.head()\n"
   ]
  },
  {
   "cell_type": "code",
   "execution_count": 29,
   "metadata": {},
   "outputs": [
    {
     "data": {
      "text/plain": [
       "(121, 2)"
      ]
     },
     "execution_count": 29,
     "metadata": {},
     "output_type": "execute_result"
    }
   ],
   "source": [
    "frequent_itemsets.shape"
   ]
  },
  {
   "cell_type": "code",
   "execution_count": 16,
   "metadata": {},
   "outputs": [
    {
     "name": "stdout",
     "output_type": "stream",
     "text": [
      "Association Rules:\n"
     ]
    },
    {
     "data": {
      "text/html": [
       "<div>\n",
       "<style scoped>\n",
       "    .dataframe tbody tr th:only-of-type {\n",
       "        vertical-align: middle;\n",
       "    }\n",
       "\n",
       "    .dataframe tbody tr th {\n",
       "        vertical-align: top;\n",
       "    }\n",
       "\n",
       "    .dataframe thead th {\n",
       "        text-align: right;\n",
       "    }\n",
       "</style>\n",
       "<table border=\"1\" class=\"dataframe\">\n",
       "  <thead>\n",
       "    <tr style=\"text-align: right;\">\n",
       "      <th></th>\n",
       "      <th>antecedents</th>\n",
       "      <th>consequents</th>\n",
       "      <th>antecedent support</th>\n",
       "      <th>consequent support</th>\n",
       "      <th>support</th>\n",
       "      <th>confidence</th>\n",
       "      <th>lift</th>\n",
       "      <th>representativity</th>\n",
       "      <th>leverage</th>\n",
       "      <th>conviction</th>\n",
       "      <th>zhangs_metric</th>\n",
       "      <th>jaccard</th>\n",
       "      <th>certainty</th>\n",
       "      <th>kulczynski</th>\n",
       "    </tr>\n",
       "  </thead>\n",
       "  <tbody>\n",
       "    <tr>\n",
       "      <th>0</th>\n",
       "      <td>(24852)</td>\n",
       "      <td>(21903)</td>\n",
       "      <td>0.180867</td>\n",
       "      <td>0.091883</td>\n",
       "      <td>0.020516</td>\n",
       "      <td>0.113431</td>\n",
       "      <td>1.234511</td>\n",
       "      <td>1.0</td>\n",
       "      <td>0.003897</td>\n",
       "      <td>1.024304</td>\n",
       "      <td>0.231907</td>\n",
       "      <td>0.081336</td>\n",
       "      <td>0.023728</td>\n",
       "      <td>0.168356</td>\n",
       "    </tr>\n",
       "    <tr>\n",
       "      <th>1</th>\n",
       "      <td>(21903)</td>\n",
       "      <td>(24852)</td>\n",
       "      <td>0.091883</td>\n",
       "      <td>0.180867</td>\n",
       "      <td>0.020516</td>\n",
       "      <td>0.223282</td>\n",
       "      <td>1.234511</td>\n",
       "      <td>1.0</td>\n",
       "      <td>0.003897</td>\n",
       "      <td>1.054608</td>\n",
       "      <td>0.209183</td>\n",
       "      <td>0.081336</td>\n",
       "      <td>0.051781</td>\n",
       "      <td>0.168356</td>\n",
       "    </tr>\n",
       "    <tr>\n",
       "      <th>2</th>\n",
       "      <td>(13176)</td>\n",
       "      <td>(21903)</td>\n",
       "      <td>0.138951</td>\n",
       "      <td>0.091883</td>\n",
       "      <td>0.019680</td>\n",
       "      <td>0.141636</td>\n",
       "      <td>1.541485</td>\n",
       "      <td>1.0</td>\n",
       "      <td>0.006913</td>\n",
       "      <td>1.057963</td>\n",
       "      <td>0.407961</td>\n",
       "      <td>0.093205</td>\n",
       "      <td>0.054787</td>\n",
       "      <td>0.177913</td>\n",
       "    </tr>\n",
       "    <tr>\n",
       "      <th>3</th>\n",
       "      <td>(21903)</td>\n",
       "      <td>(13176)</td>\n",
       "      <td>0.091883</td>\n",
       "      <td>0.138951</td>\n",
       "      <td>0.019680</td>\n",
       "      <td>0.214190</td>\n",
       "      <td>1.541485</td>\n",
       "      <td>1.0</td>\n",
       "      <td>0.006913</td>\n",
       "      <td>1.095748</td>\n",
       "      <td>0.386817</td>\n",
       "      <td>0.093205</td>\n",
       "      <td>0.087381</td>\n",
       "      <td>0.177913</td>\n",
       "    </tr>\n",
       "    <tr>\n",
       "      <th>4</th>\n",
       "      <td>(21137)</td>\n",
       "      <td>(21903)</td>\n",
       "      <td>0.100491</td>\n",
       "      <td>0.091883</td>\n",
       "      <td>0.015356</td>\n",
       "      <td>0.152812</td>\n",
       "      <td>1.663113</td>\n",
       "      <td>1.0</td>\n",
       "      <td>0.006123</td>\n",
       "      <td>1.071919</td>\n",
       "      <td>0.443262</td>\n",
       "      <td>0.086749</td>\n",
       "      <td>0.067094</td>\n",
       "      <td>0.159969</td>\n",
       "    </tr>\n",
       "  </tbody>\n",
       "</table>\n",
       "</div>"
      ],
      "text/plain": [
       "  antecedents consequents  antecedent support  consequent support   support  \\\n",
       "0     (24852)     (21903)            0.180867            0.091883  0.020516   \n",
       "1     (21903)     (24852)            0.091883            0.180867  0.020516   \n",
       "2     (13176)     (21903)            0.138951            0.091883  0.019680   \n",
       "3     (21903)     (13176)            0.091883            0.138951  0.019680   \n",
       "4     (21137)     (21903)            0.100491            0.091883  0.015356   \n",
       "\n",
       "   confidence      lift  representativity  leverage  conviction  \\\n",
       "0    0.113431  1.234511               1.0  0.003897    1.024304   \n",
       "1    0.223282  1.234511               1.0  0.003897    1.054608   \n",
       "2    0.141636  1.541485               1.0  0.006913    1.057963   \n",
       "3    0.214190  1.541485               1.0  0.006913    1.095748   \n",
       "4    0.152812  1.663113               1.0  0.006123    1.071919   \n",
       "\n",
       "   zhangs_metric   jaccard  certainty  kulczynski  \n",
       "0       0.231907  0.081336   0.023728    0.168356  \n",
       "1       0.209183  0.081336   0.051781    0.168356  \n",
       "2       0.407961  0.093205   0.054787    0.177913  \n",
       "3       0.386817  0.093205   0.087381    0.177913  \n",
       "4       0.443262  0.086749   0.067094    0.159969  "
      ]
     },
     "execution_count": 16,
     "metadata": {},
     "output_type": "execute_result"
    }
   ],
   "source": [
    "# Generate association rules with minimum confidence of 0.5\n",
    "rules = association_rules(frequent_itemsets, metric='confidence', min_threshold=0.01, num_itemsets=32148)\n",
    "\n",
    "# Display the rules\n",
    "print(\"Association Rules:\")\n",
    "rules.head()\n"
   ]
  },
  {
   "cell_type": "code",
   "execution_count": 17,
   "metadata": {},
   "outputs": [
    {
     "name": "stdout",
     "output_type": "stream",
     "text": [
      "Strong Rules:\n",
      "   antecedents consequents  antecedent support  consequent support   support  \\\n",
      "7      (16797)     (24852)            0.052588            0.180867  0.016945   \n",
      "8      (49683)     (24852)            0.038763            0.180867  0.013382   \n",
      "35     (27966)     (13176)            0.053128            0.138951  0.016364   \n",
      "43     (47766)     (24852)            0.069213            0.180867  0.021490   \n",
      "45     (28204)     (24852)            0.034062            0.180867  0.013341   \n",
      "46     (45066)     (24852)            0.031392            0.180867  0.011417   \n",
      "\n",
      "    confidence      lift  representativity  leverage  conviction  \\\n",
      "7     0.322224  1.781555               1.0  0.007434    1.208560   \n",
      "8     0.345236  1.908785               1.0  0.006371    1.251035   \n",
      "35    0.308001  2.216620               1.0  0.008981    1.244292   \n",
      "43    0.310496  1.716711               1.0  0.008972    1.188003   \n",
      "45    0.391681  2.165577               1.0  0.007181    1.346552   \n",
      "46    0.363684  2.010784               1.0  0.005739    1.287305   \n",
      "\n",
      "    zhangs_metric   jaccard  certainty  kulczynski  \n",
      "7        0.463043  0.078264   0.172569    0.207956  \n",
      "8        0.495306  0.064885   0.200662    0.209613  \n",
      "35       0.579659  0.093125   0.196330    0.212883  \n",
      "43       0.448535  0.094013   0.158252    0.214657  \n",
      "45       0.557209  0.066182   0.257362    0.232722  \n",
      "46       0.518973  0.056845   0.223184    0.213403  \n"
     ]
    },
    {
     "data": {
      "image/png": "[encoded data removed]",
      "text/plain": [
       "<Figure size 432x288 with 1 Axes>"
      ]
     },
     "metadata": {
      "needs_background": "light"
     },
     "output_type": "display_data"
    }
   ],
   "source": [
    "# Filter for strong rules with high confidence and lift\n",
    "strong_rules = rules[(rules['confidence'] > 0.3) & (rules['lift'] > 1.2)]\n",
    "\n",
    "print(\"Strong Rules:\")\n",
    "print(strong_rules)\n",
    "\n",
    "# Visualize the top frequent itemsets\n",
    "import matplotlib.pyplot as plt\n",
    "\n",
    "top_itemsets = frequent_itemsets.nlargest(10, 'support')\n",
    "plt.barh(top_itemsets['itemsets'].astype(str), top_itemsets['support'])\n",
    "plt.xlabel('Support')\n",
    "plt.ylabel('Itemsets')\n",
    "plt.title('Top 10 Frequent Itemsets')\n",
    "plt.show()\n"
   ]
  },
  {
   "cell_type": "code",
   "execution_count": 25,
   "metadata": {},
   "outputs": [
    {
     "name": "stdout",
     "output_type": "stream",
     "text": [
      "Strong Rules with Product Names:\n",
      "           antecedents consequents  antecedent support  consequent support  \\\n",
      "23  Organic Fuji Apple      Banana             0.02784            0.141346   \n",
      "\n",
      "     support  confidence      lift  representativity  leverage  conviction  \\\n",
      "23  0.010141    0.364246  2.576975               1.0  0.006206    1.350606   \n",
      "\n",
      "    zhangs_metric   jaccard  certainty  kulczynski  \n",
      "23       0.629473  0.063759   0.259592    0.217994  \n"
     ]
    },
    {
     "name": "stderr",
     "output_type": "stream",
     "text": [
      "/var/folders/xt/jp3v18wd171bjzynfh02f21h0000gq/T/ipykernel_16256/3998805271.py:5: SettingWithCopyWarning: \n",
      "A value is trying to be set on a copy of a slice from a DataFrame.\n",
      "Try using .loc[row_indexer,col_indexer] = value instead\n",
      "\n",
      "See the caveats in the documentation: https://pandas.pydata.org/pandas-docs/stable/user_guide/indexing.html#returning-a-view-versus-a-copy\n",
      "  strong_rules['antecedents'] = strong_rules['antecedents'].apply(lambda x: ', '.join([product_id_to_name[i] for i in x]))\n",
      "/var/folders/xt/jp3v18wd171bjzynfh02f21h0000gq/T/ipykernel_16256/3998805271.py:6: SettingWithCopyWarning: \n",
      "A value is trying to be set on a copy of a slice from a DataFrame.\n",
      "Try using .loc[row_indexer,col_indexer] = value instead\n",
      "\n",
      "See the caveats in the documentation: https://pandas.pydata.org/pandas-docs/stable/user_guide/indexing.html#returning-a-view-versus-a-copy\n",
      "  strong_rules['consequents'] = strong_rules['consequents'].apply(lambda x: ', '.join([product_id_to_name[i] for i in x]))\n"
     ]
    }
   ],
   "source": [
    "# map product_id to product_name\n",
    "product_id_to_name = products.set_index('product_id')['product_name'].to_dict()\n",
    "\n",
    "# Display the product names in the association rules\n",
    "strong_rules['antecedents'] = strong_rules['antecedents'].apply(lambda x: ', '.join([product_id_to_name[i] for i in x]))\n",
    "strong_rules['consequents'] = strong_rules['consequents'].apply(lambda x: ', '.join([product_id_to_name[i] for i in x]))\n",
    "\n",
    "print(\"Strong Rules with Product Names:\")\n",
    "print(strong_rules)"
   ]
  },
  {
   "cell_type": "code",
   "execution_count": 18,
   "metadata": {},
   "outputs": [
    {
     "data": {
      "image/png": "[encoded data removed]",
      "text/plain": [
       "<Figure size 432x288 with 1 Axes>"
      ]
     },
     "metadata": {
      "needs_background": "light"
     },
     "output_type": "display_data"
    }
   ],
   "source": [
    "# map product_id to product_name\n",
    "product_id_to_name = products.set_index('product_id')['product_name'].to_dict()\n",
    "# make it in frequent_itemsets\n",
    "frequent_itemsets['itemsets'] = frequent_itemsets['itemsets'].apply(lambda x: ', '.join([product_id_to_name[i] for i in x]))\n",
    "top_itemsets = frequent_itemsets.nlargest(10, 'support')\n",
    "plt.barh(top_itemsets['itemsets'].astype(str), top_itemsets['support'])\n",
    "plt.xlabel('Support')\n",
    "plt.ylabel('Itemsets')\n",
    "plt.title('Top 10 Frequent Itemsets')\n",
    "plt.show()\n"
   ]
  },
  {
   "cell_type": "code",
   "execution_count": null,
   "metadata": {},
   "outputs": [],
   "source": []
  }
 ],
 "metadata": {
  "kernelspec": {
   "display_name": "base",
   "language": "python",
   "name": "python3"
  },
  "language_info": {
   "codemirror_mode": {
    "name": "ipython",
    "version": 3
   },
   "file_extension": ".py",
   "mimetype": "text/x-python",
   "name": "python",
   "nbconvert_exporter": "python",
   "pygments_lexer": "ipython3",
   "version": "3.9.7"
  }
 },
 "nbformat": 4,
 "nbformat_minor": 2
}
